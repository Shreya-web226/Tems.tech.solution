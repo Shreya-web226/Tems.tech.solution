{
  "nbformat": 4,
  "nbformat_minor": 0,
  "metadata": {
    "colab": {
      "provenance": [],
      "authorship_tag": "ABX9TyMrisGdIX3lrYUdpQZ5TzwV",
      "include_colab_link": true
    },
    "kernelspec": {
      "name": "python3",
      "display_name": "Python 3"
    },
    "language_info": {
      "name": "python"
    }
  },
  "cells": [
    {
      "cell_type": "markdown",
      "metadata": {
        "id": "view-in-github",
        "colab_type": "text"
      },
      "source": [
        "<a href=\"https://colab.research.google.com/github/Shreya-web226/Tems.tech.solution/blob/main/Debt_Collection_Analytics_Finance_Sector.ipynb\" target=\"_parent\"><img src=\"https://colab.research.google.com/assets/colab-badge.svg\" alt=\"Open In Colab\"/></a>"
      ]
    },
    {
      "cell_type": "code",
      "execution_count": 1,
      "metadata": {
        "colab": {
          "base_uri": "https://localhost:8080/",
          "height": 1000
        },
        "id": "ynVcDJ6o2xli",
        "outputId": "6d935e1e-9d0c-4c78-f85b-0a12576c555f"
      },
      "outputs": [
        {
          "output_type": "stream",
          "name": "stdout",
          "text": [
            "First few records of the dataset:\n",
            "    Customer_ID  Age  Income  Outstanding_Debt  Months_Delinquent  \\\n",
            "0            1   56   33343             39110                  6   \n",
            "1            2   69   43500             17389                 13   \n",
            "2            3   46   83222             42427                 14   \n",
            "3            4   32   59375             15043                 20   \n",
            "4            5   60   39662             29746                  6   \n",
            "\n",
            "   Credit_Score  Defaulted  \n",
            "0           829          1  \n",
            "1           320          1  \n",
            "2           819          0  \n",
            "3           399          0  \n",
            "4           777          0  \n",
            "\n",
            "Confusion Matrix:\n",
            " [[89 16]\n",
            " [40  5]]\n",
            "\n",
            "Classification Report:\n",
            "               precision    recall  f1-score   support\n",
            "\n",
            "           0       0.69      0.85      0.76       105\n",
            "           1       0.24      0.11      0.15        45\n",
            "\n",
            "    accuracy                           0.63       150\n",
            "   macro avg       0.46      0.48      0.46       150\n",
            "weighted avg       0.55      0.63      0.58       150\n",
            "\n"
          ]
        },
        {
          "output_type": "display_data",
          "data": {
            "text/plain": [
              "<Figure size 800x600 with 1 Axes>"
            ],
            "image/png": "[encoded data removed]"
          },
          "metadata": {}
        },
        {
          "output_type": "stream",
          "name": "stdout",
          "text": [
            "\n",
            "High-risk customer segment:\n",
            "     Customer_ID  Age  Income  Outstanding_Debt  Months_Delinquent  \\\n",
            "1             2   69   43500             17389                 13   \n",
            "3             4   32   59375             15043                 20   \n",
            "8             9   36  115067             47685                  7   \n",
            "18           19   19  108832             23700                 16   \n",
            "19           20   41   81293             33043                 13   \n",
            "\n",
            "    Credit_Score  Defaulted  \n",
            "1            320          1  \n",
            "3            399          0  \n",
            "8            301          0  \n",
            "18           429          1  \n",
            "19           444          1  \n"
          ]
        }
      ],
      "source": [
        "import numpy as np\n",
        "import pandas as pd\n",
        "import matplotlib.pyplot as plt\n",
        "import seaborn as sns\n",
        "from sklearn.model_selection import train_test_split\n",
        "from sklearn.ensemble import RandomForestClassifier\n",
        "from sklearn.metrics import classification_report, confusion_matrix\n",
        "\n",
        "# Mock Data Creation for Customer Debt Collection\n",
        "np.random.seed(42)\n",
        "\n",
        "# Generating mock data for customers\n",
        "num_customers = 500\n",
        "data = {\n",
        "    'Customer_ID': np.arange(1, num_customers + 1),\n",
        "    'Age': np.random.randint(18, 70, num_customers),\n",
        "    'Income': np.random.randint(30000, 120000, num_customers),\n",
        "    'Outstanding_Debt': np.random.randint(1000, 50000, num_customers),\n",
        "    'Months_Delinquent': np.random.randint(0, 24, num_customers),\n",
        "    'Credit_Score': np.random.randint(300, 850, num_customers),\n",
        "    'Defaulted': np.random.choice([0, 1], size=num_customers, p=[0.7, 0.3])  # 70% non-default, 30% default\n",
        "}\n",
        "\n",
        "# Convert to DataFrame\n",
        "df = pd.DataFrame(data)\n",
        "\n",
        "# Data Inspection\n",
        "print(\"First few records of the dataset:\\n\", df.head())\n",
        "\n",
        "# Split the data into features and target\n",
        "X = df[['Age', 'Income', 'Outstanding_Debt', 'Months_Delinquent', 'Credit_Score']]\n",
        "y = df['Defaulted']\n",
        "\n",
        "# Split into training and test data\n",
        "X_train, X_test, y_train, y_test = train_test_split(X, y, test_size=0.3, random_state=42)\n",
        "\n",
        "# Build a Random Forest model for prediction\n",
        "model = RandomForestClassifier(n_estimators=100, random_state=42)\n",
        "model.fit(X_train, y_train)\n",
        "\n",
        "# Predictions\n",
        "y_pred = model.predict(X_test)\n",
        "\n",
        "# Model Evaluation\n",
        "print(\"\\nConfusion Matrix:\\n\", confusion_matrix(y_test, y_pred))\n",
        "print(\"\\nClassification Report:\\n\", classification_report(y_test, y_pred))\n",
        "\n",
        "# Visualizing Feature Importance\n",
        "importances = model.feature_importances_\n",
        "feature_names = X.columns\n",
        "plt.figure(figsize=(8,6))\n",
        "sns.barplot(x=importances, y=feature_names)\n",
        "plt.title('Feature Importance in Predicting Default')\n",
        "plt.show()\n",
        "\n",
        "# Example of optimizing collection strategy:\n",
        "# Focus on high-risk groups (based on features like credit score and months delinquent)\n",
        "high_risk_customers = df[(df['Credit_Score'] < 500) & (df['Months_Delinquent'] > 6)]\n",
        "print(\"\\nHigh-risk customer segment:\\n\", high_risk_customers.head())\n",
        "\n",
        "# Potential collection strategy for this group: Implement stricter collection policies or offer repayment plans.\n"
      ]
    }
  ]
}