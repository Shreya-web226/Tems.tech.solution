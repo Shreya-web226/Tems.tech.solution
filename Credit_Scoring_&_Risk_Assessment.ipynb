{
  "nbformat": 4,
  "nbformat_minor": 0,
  "metadata": {
    "colab": {
      "provenance": [],
      "authorship_tag": "ABX9TyMFvQIlDQZMV4yFFyxfCaiq",
      "include_colab_link": true
    },
    "kernelspec": {
      "name": "python3",
      "display_name": "Python 3"
    },
    "language_info": {
      "name": "python"
    }
  },
  "cells": [
    {
      "cell_type": "markdown",
      "metadata": {
        "id": "view-in-github",
        "colab_type": "text"
      },
      "source": [
        "<a href=\"https://colab.research.google.com/github/Shreya-web226/Tems.tech.solution/blob/main/Credit_Scoring_%26_Risk_Assessment.ipynb\" target=\"_parent\"><img src=\"https://colab.research.google.com/assets/colab-badge.svg\" alt=\"Open In Colab\"/></a>"
      ]
    },
    {
      "cell_type": "code",
      "execution_count": 1,
      "metadata": {
        "colab": {
          "base_uri": "https://localhost:8080/"
        },
        "id": "12K_fczUjLEM",
        "outputId": "0a1acb79-a7bf-411f-dfcf-4f9c7c07f62c"
      },
      "outputs": [
        {
          "output_type": "stream",
          "name": "stdout",
          "text": [
            "Missing values in dataset:\n",
            "Age             0\n",
            "Income          0\n",
            "Credit Score    0\n",
            "Loan Amount     0\n",
            "Default         0\n",
            "dtype: int64\n",
            "\n",
            "Confusion Matrix:\n",
            "[[61 38]\n",
            " [48 53]]\n",
            "\n",
            "Classification Report:\n",
            "              precision    recall  f1-score   support\n",
            "\n",
            "           0       0.56      0.62      0.59        99\n",
            "           1       0.58      0.52      0.55       101\n",
            "\n",
            "    accuracy                           0.57       200\n",
            "   macro avg       0.57      0.57      0.57       200\n",
            "weighted avg       0.57      0.57      0.57       200\n",
            "\n",
            "\n",
            "Results of Credit Scoring & Risk Assessment:\n",
            "     Age        Income  Credit Score  Loan Amount  Predicted Default  \\\n",
            "521   22  40295.948334           604        48221                  1   \n",
            "737   49  82177.236917           754        21324                  1   \n",
            "740   38  59506.653214           696        17544                  0   \n",
            "660   56  47749.166195           620        12577                  0   \n",
            "411   59  67539.433857           412        42094                  1   \n",
            "\n",
            "     Default Probability  \n",
            "521             0.548229  \n",
            "737             0.509586  \n",
            "740             0.495248  \n",
            "660             0.460866  \n",
            "411             0.538670  \n"
          ]
        }
      ],
      "source": [
        "import numpy as np\n",
        "import pandas as pd\n",
        "from sklearn.model_selection import train_test_split\n",
        "from sklearn.linear_model import LogisticRegression\n",
        "from sklearn.metrics import classification_report, confusion_matrix\n",
        "\n",
        "# Step 1: Generate a synthetic dataset\n",
        "np.random.seed(42)  # For reproducibility\n",
        "\n",
        "# Define parameters for the synthetic data\n",
        "num_samples = 1000\n",
        "age = np.random.randint(18, 70, num_samples)  # Age between 18 and 70\n",
        "income = np.random.normal(50000, 15000, num_samples)  # Average income with some variance\n",
        "credit_score = np.random.randint(300, 850, num_samples)  # Credit score between 300 and 850\n",
        "loan_amount = np.random.randint(1000, 50000, num_samples)  # Loan amounts\n",
        "default = np.random.randint(0, 2, num_samples)  # 0 = No Default, 1 = Default\n",
        "\n",
        "# Create a DataFrame\n",
        "data = pd.DataFrame({\n",
        "    'Age': age,\n",
        "    'Income': income,\n",
        "    'Credit Score': credit_score,\n",
        "    'Loan Amount': loan_amount,\n",
        "    'Default': default\n",
        "})\n",
        "\n",
        "# Step 2: Data Preprocessing\n",
        "# Check for missing values\n",
        "print(\"Missing values in dataset:\")\n",
        "print(data.isnull().sum())\n",
        "\n",
        "# Feature selection\n",
        "X = data[['Age', 'Income', 'Credit Score', 'Loan Amount']]\n",
        "y = data['Default']\n",
        "\n",
        "# Step 3: Split the data into training and testing sets\n",
        "X_train, X_test, y_train, y_test = train_test_split(X, y, test_size=0.2, random_state=42)\n",
        "\n",
        "# Step 4: Build the Logistic Regression Model\n",
        "model = LogisticRegression()\n",
        "model.fit(X_train, y_train)\n",
        "\n",
        "# Step 5: Make Predictions\n",
        "y_pred = model.predict(X_test)\n",
        "\n",
        "# Step 6: Evaluate the Model\n",
        "print(\"\\nConfusion Matrix:\")\n",
        "print(confusion_matrix(y_test, y_pred))\n",
        "\n",
        "print(\"\\nClassification Report:\")\n",
        "print(classification_report(y_test, y_pred))\n",
        "\n",
        "# Step 7: Risk Assessment\n",
        "# Calculate probabilities of default for the test set\n",
        "default_probabilities = model.predict_proba(X_test)[:, 1]\n",
        "\n",
        "# Add probabilities to the test set DataFrame for further analysis\n",
        "results = pd.DataFrame(X_test)\n",
        "results['Predicted Default'] = y_pred\n",
        "results['Default Probability'] = default_probabilities\n",
        "\n",
        "# Display the results\n",
        "print(\"\\nResults of Credit Scoring & Risk Assessment:\")\n",
        "print(results.head())\n"
      ]
    }
  ]
}